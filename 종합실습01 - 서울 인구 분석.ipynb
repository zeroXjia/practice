{
 "cells": [
  {
   "cell_type": "markdown",
   "metadata": {
    "id": "BFhIXgdYoYGp"
   },
   "source": [
    "<center><img src='https://raw.githubusercontent.com/Jangrae/img/master/title.png' width=500/></center>"
   ]
  },
  {
   "cell_type": "markdown",
   "metadata": {
    "id": "d6jVPeiR2MK_"
   },
   "source": [
    "<center><img src='https://raw.githubusercontent.com/Jangrae/img/master/practice3.png' width=300/></center>"
   ]
  },
  {
   "cell_type": "markdown",
   "metadata": {
    "id": "yOKSV9AlnWjf"
   },
   "source": [
    "<center>본 실습에서 요구하는 내용 외에도 다양한 내용을 스스로 추가하여  탐색하고 분석해 보기를 권고합니다.</center>\n",
    "\n",
    "\n"
   ]
  },
  {
   "cell_type": "markdown",
   "metadata": {
    "id": "Xi_yurwiORB7"
   },
   "source": [
    "# 종합실습 - 서울시 인구 분석"
   ]
  },
  {
   "cell_type": "markdown",
   "metadata": {
    "id": "4wk8yXgF1FYk"
   },
   "source": [
    "<img src='https://raw.githubusercontent.com/Jangrae/img/master/people2.png' width=\"650\" align=\"left\">"
   ]
  },
  {
   "cell_type": "markdown",
   "metadata": {
    "id": "qb1iLyXwGlnw"
   },
   "source": [
    "# 1.환경 설정\n",
    "\n",
    "- 데이터 탐색과 전처리를 하기 전 필요한 라이브러리와 대상 파일을 읽어옵니다.\n",
    "- 시각화에 한글이 포함될 경우 이에 대한 설정을 진행합니다."
   ]
  },
  {
   "cell_type": "markdown",
   "metadata": {
    "id": "0uNXxebRGrd8"
   },
   "source": [
    "**1) 라이브러리 불러오기**\n",
    "\n",
    "- 사용할 라이브러리를 불러옵니다."
   ]
  },
  {
   "cell_type": "code",
   "execution_count": null,
   "metadata": {
    "id": "p3lUS_fyqvnh"
   },
   "outputs": [],
   "source": [
    "# 라이브러리 불러오기\n",
    "import numpy as np\n",
    "import pandas as pd\n",
    "import matplotlib.pyplot as plt\n",
    "\n",
    "%config InlineBackend.figure_format = 'retina'"
   ]
  },
  {
   "cell_type": "markdown",
   "metadata": {
    "id": "PK8ZI9P5mRV8"
   },
   "source": [
    "**2) 한글 설정**\n",
    "\n",
    "- Jupyter Notebook 시각화에 한글이 표시되게 설정합니다."
   ]
  },
  {
   "cell_type": "code",
   "execution_count": null,
   "metadata": {
    "id": "lyk2U1RZmRV9"
   },
   "outputs": [],
   "source": [
    "# 폰트설정\n",
    "plt.rcParams['font.family'] = 'Malgun Gothic'\n",
    "plt.rcParams['axes.unicode_minus'] = False"
   ]
  },
  {
   "cell_type": "markdown",
   "metadata": {
    "id": "ul8zKgxCqvnh"
   },
   "source": [
    "**3) 데이터 읽어오기**\n",
    "\n",
    "- 다음 경로의 파일을 읽어와 pop01, pop02, pop03 데이터프레임을 만듭니다.\n",
    "- 파일 경로1: https://raw.githubusercontent.com/Jangrae/csv/master/seoul_pop_h01.csv\n",
    "- 파일 경로2: https://raw.githubusercontent.com/Jangrae/csv/master/seoul_pop_h02.csv\n",
    "- 파일 경로3: https://raw.githubusercontent.com/Jangrae/csv/master/seoul_pop_h03.csv"
   ]
  },
  {
   "cell_type": "code",
   "execution_count": null,
   "metadata": {
    "id": "91c9vKQ0E1A4",
    "outputId": "4ce61b47-7a84-4fbc-d55a-ab5d84781013"
   },
   "outputs": [],
   "source": [
    "# pop01 데이터 읽어오기\n",
    "\n",
    "\n"
   ]
  },
  {
   "cell_type": "code",
   "execution_count": null,
   "metadata": {
    "id": "QSedynVWEp3W",
    "outputId": "92ba46fe-37d9-4f4d-dc99-088c04f940bf"
   },
   "outputs": [],
   "source": [
    "# pop02 데이터 읽어오기\n",
    "\n",
    "\n"
   ]
  },
  {
   "cell_type": "code",
   "execution_count": null,
   "metadata": {
    "id": "OPfgGedaEqnw",
    "outputId": "5e6bf625-e9b8-4bdc-c6d2-1e1ce82971a8"
   },
   "outputs": [],
   "source": [
    "# pop03 데이터 읽어오기\n",
    "\n",
    "\n"
   ]
  },
  {
   "cell_type": "markdown",
   "metadata": {
    "id": "YskAXv8avBKD"
   },
   "source": [
    "# 2. 데이터 탐색\n",
    "\n",
    "다음과 같은 정보 확인을 통해 처리할 대상 데이터를 이해합니다.\n",
    "- 상/하위 데이터 확인\n",
    "- 데이터프레임 크기 확인\n",
    "- 열 이름, 데이터 형식, 값 개수 등 확인\n",
    "- 기술 통계정보 확인\n",
    "- 결측치 확인\n",
    "- 범주형 데이터 확인\n",
    "- 개별 열 값 상세 확인 등"
   ]
  },
  {
   "cell_type": "markdown",
   "metadata": {
    "id": "DGGFZli-V9pv"
   },
   "source": [
    "**1) 데이터프레임 크기 확인**\n",
    "\n",
    "- 세 개의 데이터프레임 크기(행 수, 열 수)를 확인합니다."
   ]
  },
  {
   "cell_type": "code",
   "execution_count": null,
   "metadata": {
    "id": "rLzk_ydnvQzs",
    "outputId": "ffd1e42d-e7dd-4b96-dc3e-0334dc8498c3"
   },
   "outputs": [],
   "source": [
    "# 데이터 크기 확인\n",
    "\n",
    "\n"
   ]
  },
  {
   "cell_type": "markdown",
   "metadata": {
    "id": "PvfJBoYFWD7d"
   },
   "source": [
    "**2) year 최솟값, 최댓값 확인**\n",
    "\n",
    "- 세 개의 데이터프레임 year열 최솟값, 최댓값을 각각 확인합니다."
   ]
  },
  {
   "cell_type": "code",
   "execution_count": null,
   "metadata": {
    "id": "HLYDQZLSwlic",
    "outputId": "ec126d44-a05e-420e-a43f-aeb26368cd20"
   },
   "outputs": [],
   "source": [
    "# year 최댓값, 최솟값 확인\n",
    "\n",
    "\n"
   ]
  },
  {
   "cell_type": "markdown",
   "metadata": {
    "id": "ia5a8bYdWRRY"
   },
   "source": [
    "**3) 결측치 확인**\n",
    "\n",
    "- 세 개의 데이터프레임에 결측치가 있는 지 각각 확인합니다."
   ]
  },
  {
   "cell_type": "code",
   "execution_count": null,
   "metadata": {
    "id": "eGIIvQrPx1aj",
    "outputId": "7f3358b2-f307-4d53-dba5-ea8a5ea5dc6b"
   },
   "outputs": [],
   "source": [
    "# 결측치 확인\n",
    "\n",
    "\n"
   ]
  },
  {
   "cell_type": "markdown",
   "metadata": {
    "id": "Xf3IhTncVXnK"
   },
   "source": [
    "**4) 열 정보 확인**\n",
    "\n",
    "- 세 개의 데이터프레임의 열 정보를 각각 확인합니다."
   ]
  },
  {
   "cell_type": "code",
   "execution_count": null,
   "metadata": {
    "id": "JDx9JTNqVXnK",
    "outputId": "f0c07063-62fa-4780-bebf-54b514d5639a"
   },
   "outputs": [],
   "source": [
    "# 열 정보 확인\n",
    "\n",
    "\n"
   ]
  },
  {
   "cell_type": "markdown",
   "metadata": {
    "id": "90Xyn_eRsjM1"
   },
   "source": [
    "# 3. 데이터 전처리\n",
    "\n",
    "전처리 과정에서 다음과 같은 처리를 할 수 있습니다.\n",
    "\n",
    "- 결측치 처리\n",
    "- 값 변경\n",
    "- 열 추가\n",
    "- 불필요한 열 제거\n",
    "- 열 이름 변경\n",
    "- 데이터 통합(연결 또는 조인)\n",
    "- 가변수화 등"
   ]
  },
  {
   "cell_type": "markdown",
   "metadata": {
    "id": "RVYiMiblt05b"
   },
   "source": [
    "**1) 데이터 통합**\n",
    "\n",
    "- concat 함수로 연결하면 인덱스 값을 기준으로 연결되어 데이터가 어긋납니다.\n",
    "- 그러므로 **merge** 함수로 **year** 열을 기준으로 **outer** 방식으로 병합(조인)합니다.\n",
    "- 외국인 정보가 1981 ~ 1984년이 누락되어 결측치가 발생할 것입니다.\n",
    "- 세 개의 데이터프레임을 병합(조인)하여 pop 데이터프레임을 선언합니다.\n",
    "- 병합은 한 번에 두 데이터프레임만 할 수 있으므로 두 번 시도해야 합니다.\n",
    "    - 1차 병합: pop01, pop02 병합 --> pop\n",
    "    - 2차 병합: pop, pop03 병합 --> pop\n",
    "- 이후의 모든 작업은 pop 데이터프레임을 대상으로 진행합니다."
   ]
  },
  {
   "cell_type": "code",
   "execution_count": null,
   "metadata": {
    "id": "oQVSJrJishiQ",
    "outputId": "f863b70f-1134-453a-a5e4-83fb20254ab8",
    "scrolled": true
   },
   "outputs": [],
   "source": [
    "# 데이터프레임 조인\n",
    "\n",
    "\n"
   ]
  },
  {
   "cell_type": "markdown",
   "metadata": {
    "id": "hdjxpxxFzxCT"
   },
   "source": [
    "**2) 결측치 확인**\n",
    "\n",
    "- 결측치가 있는지 확인합니다."
   ]
  },
  {
   "cell_type": "code",
   "execution_count": null,
   "metadata": {
    "id": "NyjTg23zz5XS",
    "outputId": "362707b9-a2f6-48dd-b263-e70710fe93d0"
   },
   "outputs": [],
   "source": [
    "# 결측치 확인\n",
    "\n",
    "\n"
   ]
  },
  {
   "cell_type": "markdown",
   "metadata": {
    "id": "E6MZV3nW0QUv"
   },
   "source": [
    "**3) 결측치 처리**\n",
    "\n",
    "- 연도별 인구 현황이므로 임의의 값을 채우는 것이 바람직하지 않아 보입니다.\n",
    "- 이후 값, 즉 1985년 값으로 채우는 것도 정확한 분석을 방해할 것 같습니다.\n",
    "- 이에 결측치가 있는 1981년~1984년 행을 제거할 것입니다."
   ]
  },
  {
   "cell_type": "code",
   "execution_count": null,
   "metadata": {
    "id": "TZ38gSP31CYM",
    "outputId": "54883999-4412-4646-9a34-964178f231cd"
   },
   "outputs": [],
   "source": [
    "# 결측치 제거\n",
    "\n",
    "           \n"
   ]
  },
  {
   "cell_type": "markdown",
   "metadata": {
    "id": "WAGgvzDv2klV"
   },
   "source": [
    "**3) 열 추가**\n",
    "\n",
    "- 이후 분석의 편의를 위해 다음과 같은 의미를 갖는 열을 추가하고자 합니다.\n",
    "    - k_total = 전체 한국인 인구수\n",
    "    - f_total = 전체 외국인 인구수\n",
    "    - male = 전체 남자 인구수\n",
    "    - female = 전체 여자 인구수\n",
    "    - total = 전체 인구수\n",
    "- 추가할 열에 대한 공식은 다음과 같습니다.\n",
    "    - k_total = k_male + k_female\n",
    "    - f_total = f_male + f_female\n",
    "    - male = k_male + f_male\n",
    "    - female = k_female + f_female\n",
    "    - total = k_total + f_total\n",
    "- 정리한 공식에 따라 데이터프레임에 열을 추가합니다."
   ]
  },
  {
   "cell_type": "code",
   "execution_count": null,
   "metadata": {
    "id": "_2UJfoL4Deyq",
    "outputId": "48b9d53d-4385-4fb6-9703-60cc3edb05d1"
   },
   "outputs": [],
   "source": [
    "# 열 추가\n",
    "\n",
    "\n"
   ]
  },
  {
   "cell_type": "markdown",
   "metadata": {
    "id": "BUlYrjII22qA"
   },
   "source": [
    "**4) 열 순서 변경**\n",
    "\n",
    "- 데이터 이해를 돕기 위해 다음과 같은 순서로 데이터프레임 열 순서를 변경합니다.\n",
    "    - year, household, total, male, female, k_total, k_male, k_female, f_total, f_male, f_female, older_65\n",
    "- 위 순서로 pop 데이터프레임을 조회한 결과를 다시 pop 데이터프레임으로 선언하면 됩니다.\n"
   ]
  },
  {
   "cell_type": "code",
   "execution_count": null,
   "metadata": {
    "id": "w_e2NR6W3Sw0",
    "outputId": "b86c5a35-f96e-4ed1-ad11-2c420d33baa8"
   },
   "outputs": [],
   "source": [
    "# 열 순서 변경\n",
    "\n",
    "\n"
   ]
  },
  {
   "cell_type": "markdown",
   "metadata": {
    "id": "YqROKu_R3t03"
   },
   "source": [
    "**5) 인덱스 초기화**\n",
    "\n",
    "- 인덱스가 0부터 시작하는 일련 번호를 갖지 않으므로 인덱스를 초기화합니다.\n",
    "- 단 기존 인덱스 값은 의미가 없으니 버립니다."
   ]
  },
  {
   "cell_type": "code",
   "execution_count": null,
   "metadata": {
    "id": "E6hQeKB533r9",
    "outputId": "40b079bb-3efc-499e-84db-0ea5ff320093"
   },
   "outputs": [],
   "source": [
    "# 인덱스 초기화\n",
    "\n",
    "\n"
   ]
  },
  {
   "cell_type": "markdown",
   "metadata": {
    "id": "gVFIrpZmrsjq"
   },
   "source": [
    "# 4. 데이터 분석\n",
    "\n",
    "- 데이터를 집계하고 간단히 시각화하여 분석합니다.\n",
    "- 연속형 값은 선 그래프, 범주형 값은 막대 그래프로 시각화함이 일반적입니다."
   ]
  },
  {
   "cell_type": "markdown",
   "metadata": {
    "id": "a8KDIf5FQA-S"
   },
   "source": [
    "**1) 전체 인구 변화**\n",
    "\n",
    "- 전체 인구 변화, 즉 total 열 값을 선 그래프로 시각화해 확인합니다."
   ]
  },
  {
   "cell_type": "code",
   "execution_count": null,
   "metadata": {
    "id": "9vxmF15TruiG",
    "outputId": "967c44e8-6961-40f1-eb45-4995cad8233e"
   },
   "outputs": [],
   "source": [
    "# 전체 인구 변화\n",
    "\n",
    "\n"
   ]
  },
  {
   "cell_type": "markdown",
   "metadata": {
    "id": "Zx8gf8v0QDis"
   },
   "source": [
    "**2) 남녀 인구 변화**\n",
    "\n",
    "- 전체 남녀 인구 변화, 즉 male, female 열 값을 선 그래프로 시각화해 확인합니다.\n"
   ]
  },
  {
   "cell_type": "code",
   "execution_count": null,
   "metadata": {
    "id": "UhHK0scXPdpw",
    "outputId": "1ac6002f-fdd7-4315-abf9-5299a34ab5c8"
   },
   "outputs": [],
   "source": [
    "# 남녀 인구 변화\n",
    "\n",
    "\n"
   ]
  },
  {
   "cell_type": "markdown",
   "metadata": {
    "id": "Mswe1ZxwQFgA"
   },
   "source": [
    "**3) 한국인 인구 변화**\n",
    "\n",
    "- 한국인 인구 변화, 즉 k_male, k_female 열 값을 선 그래프로 시각화해 확인합니다."
   ]
  },
  {
   "cell_type": "code",
   "execution_count": null,
   "metadata": {
    "id": "nWOZPWEmPw7r",
    "outputId": "ca14d04c-6d31-445c-99d4-294c3657e0a3"
   },
   "outputs": [],
   "source": [
    "# 한국인 남녀 인구 변화\n",
    "\n",
    "\n"
   ]
  },
  {
   "cell_type": "markdown",
   "metadata": {
    "id": "6swMmePkQH2s"
   },
   "source": [
    "**4) 외국인 인구 변화**\n",
    "\n",
    "- 외국인 인구 변화, 즉 f_male, f_female 열 값을 선 그래프로 시각화해 확인합니다."
   ]
  },
  {
   "cell_type": "code",
   "execution_count": null,
   "metadata": {
    "id": "F6ujLFpPP4Pp",
    "outputId": "1a6684d6-44df-4478-8b47-16227cf1f595"
   },
   "outputs": [],
   "source": [
    "# 외국인 남녀 인구 변화\n",
    "\n",
    "\n"
   ]
  },
  {
   "cell_type": "markdown",
   "metadata": {
    "id": "_f6fAl8sR9AL"
   },
   "source": [
    "**5) 가구수 변화**\n",
    "\n",
    "- 가구수 변화, 즉 household 열 값을 선 그래프로 시각화해 확인합니다."
   ]
  },
  {
   "cell_type": "code",
   "execution_count": null,
   "metadata": {
    "id": "J2m0m5i9R9AM",
    "outputId": "8d60b6d8-d065-4c6e-e5d0-c8ad8d836ecc"
   },
   "outputs": [],
   "source": [
    "# 가구수 변화\n",
    "\n",
    "\n"
   ]
  },
  {
   "cell_type": "markdown",
   "metadata": {
    "id": "RCrYaSeYSLHm"
   },
   "source": [
    "**6) 노령인구 변화**\n",
    "\n",
    "- 노령인구 변화, 즉 older_65 열 값을 선 그래프로 시각화해 확인합니다."
   ]
  },
  {
   "cell_type": "code",
   "execution_count": null,
   "metadata": {
    "id": "Tkt-E7vWSLHu",
    "outputId": "df6ad885-021e-47f6-a927-6de4a6aff097"
   },
   "outputs": [],
   "source": [
    "# 65세 이상 변화\n",
    "\n",
    "\n"
   ]
  }
 ],
 "metadata": {
  "colab": {
   "collapsed_sections": [],
   "name": "1일차 실습 1 - 서울 인구 분석.ipynb",
   "provenance": []
  },
  "kernelspec": {
   "display_name": "Python 3 (ipykernel)",
   "language": "python",
   "name": "python3"
  },
  "language_info": {
   "codemirror_mode": {
    "name": "ipython",
    "version": 3
   },
   "file_extension": ".py",
   "mimetype": "text/x-python",
   "name": "python",
   "nbconvert_exporter": "python",
   "pygments_lexer": "ipython3",
   "version": "3.9.13"
  }
 },
 "nbformat": 4,
 "nbformat_minor": 4
}
