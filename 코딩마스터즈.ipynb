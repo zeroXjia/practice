{
 "cells": [
  {
   "cell_type": "code",
   "execution_count": 41,
   "id": "9990b28f-ae25-47b9-8660-7b608b4d9d60",
   "metadata": {},
   "outputs": [],
   "source": [
    "import math"
   ]
  },
  {
   "cell_type": "code",
   "execution_count": 21,
   "id": "7826c44d-91b3-40e1-83fe-715ac9972c0e",
   "metadata": {},
   "outputs": [
    {
     "name": "stdin",
     "output_type": "stream",
     "text": [
      " a s d c v f g \n"
     ]
    },
    {
     "name": "stdout",
     "output_type": "stream",
     "text": [
      "a s d c v f g\n",
      "a s d c\n"
     ]
    }
   ],
   "source": [
    "# 5334\n",
    "\n",
    "numbers = list(map(str, input().split()))\n",
    "n = ' '.join(numbers)\n",
    "\n",
    "\n",
    "n1 = n.find('c')\n",
    "print(n[:n1+1])\n"
   ]
  },
  {
   "cell_type": "code",
   "execution_count": 32,
   "id": "6b6ef48b-4fc7-4260-aa8a-d32966bd061b",
   "metadata": {},
   "outputs": [
    {
     "name": "stdin",
     "output_type": "stream",
     "text": [
      " 28\n"
     ]
    },
    {
     "name": "stdout",
     "output_type": "stream",
     "text": [
      "34 1C\n"
     ]
    }
   ],
   "source": [
    "# 5332\n",
    "n = int(input())\n",
    "\n",
    "o = oct(n)\n",
    "h = hex(n)\n",
    "print(o[2:], h[2:].upper())\n"
   ]
  },
  {
   "cell_type": "code",
   "execution_count": 34,
   "id": "b621d1f4-369a-49c3-9900-446f6a59844c",
   "metadata": {},
   "outputs": [
    {
     "name": "stdin",
     "output_type": "stream",
     "text": [
      " 9995\n"
     ]
    },
    {
     "name": "stdout",
     "output_type": "stream",
     "text": [
      "6\n"
     ]
    }
   ],
   "source": [
    "# 5329\n",
    "n = int(input())\n",
    "a = n % 5\n",
    "b = n % 7\n",
    "if a > b:\n",
    "    print(a)\n",
    "else:    \n",
    "    print(b)\n"
   ]
  },
  {
   "cell_type": "code",
   "execution_count": 36,
   "id": "4f1daf98-add3-409a-84f3-bcab9b25fc9a",
   "metadata": {},
   "outputs": [
    {
     "name": "stdin",
     "output_type": "stream",
     "text": [
      " kimnaraesarangbadahaneul\n"
     ]
    },
    {
     "name": "stdout",
     "output_type": "stream",
     "text": [
      "0\n"
     ]
    }
   ],
   "source": [
    "#5318\n",
    "n = str(input())\n",
    "\n",
    "if len(n) >= 20:\n",
    "    print(0)\n",
    "else:\n",
    "    print(-1)\n",
    "\n",
    "\n",
    "\n"
   ]
  },
  {
   "cell_type": "code",
   "execution_count": 40,
   "id": "e98835b2-7330-41ad-86a2-e355fe77ae4b",
   "metadata": {},
   "outputs": [
    {
     "name": "stdin",
     "output_type": "stream",
     "text": [
      " 99\n"
     ]
    },
    {
     "name": "stdout",
     "output_type": "stream",
     "text": [
      "25\n"
     ]
    }
   ],
   "source": [
    "# 5317\n",
    "n = int(input())\n",
    "d = []\n",
    "\n",
    "for i in range(n):\n",
    "    c = 0\n",
    "    for j in range(2, i):\n",
    "        if i%j==0:\n",
    "            c=1\n",
    "    if c==0:\n",
    "        d.append(i)\n",
    "print(len(d)-2)        \n",
    "\n",
    "\n",
    "\n",
    "\n"
   ]
  },
  {
   "cell_type": "code",
   "execution_count": 10,
   "id": "7526cb1c-a742-475a-84df-7b0f930dc931",
   "metadata": {},
   "outputs": [
    {
     "name": "stdin",
     "output_type": "stream",
     "text": [
      " ABC\n"
     ]
    },
    {
     "name": "stdout",
     "output_type": "stream",
     "text": [
      "P\n"
     ]
    }
   ],
   "source": [
    "#5330\n",
    "n = str(input())\n",
    "if (n.isalpha() == True) & (len(n) <= 20):\n",
    "    print('P')\n",
    "else:\n",
    "    print('I')\n"
   ]
  },
  {
   "cell_type": "code",
   "execution_count": 43,
   "id": "8d49b742-178f-4ea4-9723-205119f3373f",
   "metadata": {},
   "outputs": [
    {
     "name": "stdin",
     "output_type": "stream",
     "text": [
      " 5 1 10\n"
     ]
    },
    {
     "name": "stdout",
     "output_type": "stream",
     "text": [
      "3\n"
     ]
    }
   ],
   "source": [
    "a, b, c = input().split()\n",
    "a = int(a)\n",
    "b = int(b)\n",
    "n = int(c)\n",
    "\n",
    "#d = ((n - a) / (a-b)) + 1\n",
    "d = ((n - a) / (a-b)) + 1\n",
    "\n",
    "print(math.ceil(d))\n",
    "#print(round(d,-1))\n"
   ]
  },
  {
   "cell_type": "code",
   "execution_count": 47,
   "id": "2331c560-e48a-490a-8955-32e2760f61cf",
   "metadata": {},
   "outputs": [
    {
     "name": "stdin",
     "output_type": "stream",
     "text": [
      " 10\n"
     ]
    },
    {
     "name": "stdout",
     "output_type": "stream",
     "text": [
      "100\n"
     ]
    }
   ],
   "source": [
    "q = input()\n",
    "q = int(q)\n",
    "print(q*10)"
   ]
  },
  {
   "cell_type": "code",
   "execution_count": 6,
   "id": "f95e30e4-18a2-4e77-a222-78953b9720d4",
   "metadata": {},
   "outputs": [
    {
     "name": "stdin",
     "output_type": "stream",
     "text": [
      " 3\n",
      " 180 180 160\n"
     ]
    },
    {
     "name": "stdout",
     "output_type": "stream",
     "text": [
      "P\n"
     ]
    }
   ],
   "source": [
    "n = int(input())\n",
    "numbers = list(map(int, input().split()))\n",
    "\n",
    "for i in range(n):\n",
    "    x = numbers[i]\n",
    "    \n",
    "    if x >= 160:\n",
    "        if i+1 == n:\n",
    "            print('P')\n",
    "        else:    \n",
    "            continue;\n",
    "        \n",
    "        \n",
    "    else:\n",
    "        print('I', x)\n",
    "        break;\n",
    "\n",
    "\n",
    "\n"
   ]
  },
  {
   "cell_type": "code",
   "execution_count": null,
   "id": "0b950486-f657-4bf8-a536-8166fc425f69",
   "metadata": {},
   "outputs": [],
   "source": []
  },
  {
   "cell_type": "code",
   "execution_count": 112,
   "id": "8f031e99-2e16-4108-abea-61f48c13c2aa",
   "metadata": {},
   "outputs": [
    {
     "name": "stdin",
     "output_type": "stream",
     "text": [
      " 7\n"
     ]
    },
    {
     "name": "stdout",
     "output_type": "stream",
     "text": [
      "1\n"
     ]
    }
   ],
   "source": [
    "n = int(input())\n",
    "\n",
    "print(n%3)\n"
   ]
  },
  {
   "cell_type": "code",
   "execution_count": 38,
   "id": "aa2607c5-c42e-42c6-8e99-ee567d8b0a64",
   "metadata": {},
   "outputs": [
    {
     "name": "stdin",
     "output_type": "stream",
     "text": [
      " 1000\n"
     ]
    },
    {
     "name": "stdout",
     "output_type": "stream",
     "text": [
      "3.14e+06\n"
     ]
    }
   ],
   "source": [
    "#원의 넓이 = r * r* 3.14\n",
    "\n",
    "r = int(input())\n",
    "circle = (r**2)*3.14\n",
    "# circle = (r ** 2) * 3.14\n",
    "#print(\"{:.0f}\".format((r ** 2) * 3.14))\n",
    "print(\"{:g}\".format(circle))"
   ]
  },
  {
   "cell_type": "code",
   "execution_count": 46,
   "id": "25280efe-d233-4063-8e11-448433e49bd5",
   "metadata": {},
   "outputs": [
    {
     "name": "stdin",
     "output_type": "stream",
     "text": [
      " 999\n"
     ]
    },
    {
     "name": "stdout",
     "output_type": "stream",
     "text": [
      "3133723.14\n"
     ]
    }
   ],
   "source": [
    "r = int(input())\n",
    "circle = (r**2)*3.14\n",
    "\n",
    "if circle.is_integer() == True: # 정수\n",
    "    print(int(circle))\n",
    "    #print(\"{:.0f}\".format(circle))\n",
    "    \n",
    "else: # 실수\n",
    "    print(circle)\n",
    "    #print(\"{:g}\".format(circle))\n",
    "\n",
    "\n"
   ]
  },
  {
   "cell_type": "code",
   "execution_count": 50,
   "id": "74f95a87-49df-468a-977a-65509a8c7214",
   "metadata": {},
   "outputs": [
    {
     "name": "stdin",
     "output_type": "stream",
     "text": [
      " 14 18\n"
     ]
    },
    {
     "name": "stdout",
     "output_type": "stream",
     "text": [
      "2\n"
     ]
    }
   ],
   "source": [
    "a, b = input().split()\n",
    "a = int(a)\n",
    "b = int(b)\n",
    "\n",
    "def gcd(a, b):\n",
    "    if b == 0: # 종료 조건\n",
    "        return a\n",
    "    return gcd(b, a % b)\n",
    "print(gcd(a, b))\n",
    "# print(gcd(1, 5)) # 1    \n",
    "# print(gcd(3, 6)) # 3   \n",
    "# print(gcd(69, 24)) # 3\n",
    "# print(gcd(81, 27)) # 27"
   ]
  },
  {
   "cell_type": "code",
   "execution_count": 52,
   "id": "8cfdc0f5-98eb-420a-9fe9-291e5ed72c04",
   "metadata": {},
   "outputs": [
    {
     "name": "stdin",
     "output_type": "stream",
     "text": [
      " 23\n"
     ]
    },
    {
     "name": "stdout",
     "output_type": "stream",
     "text": [
      "4\n"
     ]
    }
   ],
   "source": [
    "n = int(input())\n",
    "\n",
    "print(n//5)\n",
    "\n"
   ]
  },
  {
   "cell_type": "code",
   "execution_count": 54,
   "id": "2fc29cd1-9316-4cda-9494-02f69f0d521f",
   "metadata": {},
   "outputs": [
    {
     "name": "stdin",
     "output_type": "stream",
     "text": [
      " 4\n"
     ]
    },
    {
     "name": "stdout",
     "output_type": "stream",
     "text": [
      "E\n"
     ]
    }
   ],
   "source": [
    "n = int(input())\n",
    "\n",
    "if n % 2 == 0:\n",
    "    print('E')\n",
    "else:\n",
    "    print('O')"
   ]
  },
  {
   "cell_type": "code",
   "execution_count": 61,
   "id": "007f8ea4-7ee2-4b2c-8139-a13c0c75f849",
   "metadata": {},
   "outputs": [
    {
     "name": "stdin",
     "output_type": "stream",
     "text": [
      " 5\n"
     ]
    },
    {
     "name": "stdout",
     "output_type": "stream",
     "text": [
      "*\n",
      "**\n",
      "***\n",
      "****\n",
      "*****\n"
     ]
    }
   ],
   "source": [
    "\n",
    "n = int(input())\n",
    "\n",
    "for i in range(n):\n",
    "    print('*'*(i+1))\n"
   ]
  },
  {
   "cell_type": "code",
   "execution_count": 63,
   "id": "73a352de-5593-45c5-8672-57838e248ab9",
   "metadata": {},
   "outputs": [
    {
     "name": "stdin",
     "output_type": "stream",
     "text": [
      " 55\n"
     ]
    },
    {
     "name": "stdout",
     "output_type": "stream",
     "text": [
      "F\n"
     ]
    }
   ],
   "source": [
    "# 5309\n",
    "n = int(input())\n",
    "\n",
    "if n >= 90:\n",
    "    print('A')\n",
    "elif n >= 80:\n",
    "    print('B')\n",
    "elif n >= 70:\n",
    "    print('C')\n",
    "else:\n",
    "    print('F')\n",
    "    \n"
   ]
  },
  {
   "cell_type": "code",
   "execution_count": 69,
   "id": "271ff78f-3f66-4178-a280-6e69c7ba7fb8",
   "metadata": {},
   "outputs": [
    {
     "name": "stdin",
     "output_type": "stream",
     "text": [
      " 10 G\n",
      " A B C D E F G H I J\n"
     ]
    },
    {
     "name": "stdout",
     "output_type": "stream",
     "text": [
      "7\n"
     ]
    }
   ],
   "source": [
    "# 5303\n",
    "a, b = input().split()\n",
    "a = int(a)\n",
    "b = str(b)\n",
    "\n",
    "numbers = list(map(str, input().split()))\n",
    "\n",
    "for i in range(a):\n",
    "    x = numbers[i]\n",
    "    if x != b:\n",
    "        continue;\n",
    "    else:\n",
    "        print(i+1)\n",
    "        break;\n",
    "\n",
    "\n"
   ]
  },
  {
   "cell_type": "code",
   "execution_count": 72,
   "id": "97199dbd-1f93-43bf-bf4d-b2bd17474505",
   "metadata": {},
   "outputs": [
    {
     "name": "stdin",
     "output_type": "stream",
     "text": [
      " 5 9\n",
      " 1 2 3 4 5\n"
     ]
    },
    {
     "name": "stdout",
     "output_type": "stream",
     "text": [
      "-1\n"
     ]
    }
   ],
   "source": [
    "# 5302\n",
    "a, b = input().split()\n",
    "a = int(a)\n",
    "b = int(b)\n",
    "\n",
    "numbers = list(map(int, input().split()))\n",
    "\n",
    "for i in range(a):\n",
    "    x = numbers[i]\n",
    "    if x != b:\n",
    "        if i+1 == a:\n",
    "            print('-1')\n",
    "        else:\n",
    "            continue;\n",
    "    else:\n",
    "        print(i+1)\n",
    "        break;"
   ]
  },
  {
   "cell_type": "code",
   "execution_count": 80,
   "id": "37680b51-8f57-42ee-83d5-ab058933ce46",
   "metadata": {},
   "outputs": [
    {
     "name": "stdin",
     "output_type": "stream",
     "text": [
      " 3 3\n",
      " 1 2\n",
      " 1 3\n",
      " 2 3\n"
     ]
    },
    {
     "ename": "TypeError",
     "evalue": "list indices must be integers or slices, not map",
     "output_type": "error",
     "traceback": [
      "\u001b[1;31m---------------------------------------------------------------------------\u001b[0m",
      "\u001b[1;31mTypeError\u001b[0m                                 Traceback (most recent call last)",
      "Cell \u001b[1;32mIn[80], line 25\u001b[0m\n\u001b[0;32m     23\u001b[0m \u001b[38;5;28;01mfor\u001b[39;00m i \u001b[38;5;129;01min\u001b[39;00m \u001b[38;5;28mrange\u001b[39m(b):\n\u001b[0;32m     24\u001b[0m     n1, n2 \u001b[38;5;241m=\u001b[39m edge[i], edge[i\u001b[38;5;241m+\u001b[39m\u001b[38;5;241m1\u001b[39m]\n\u001b[1;32m---> 25\u001b[0m     \u001b[43madjM\u001b[49m\u001b[43m[\u001b[49m\u001b[43mn1\u001b[49m\u001b[43m]\u001b[49m[n2] \u001b[38;5;241m=\u001b[39m \u001b[38;5;241m1\u001b[39m\n\u001b[0;32m     26\u001b[0m     adjM[n2][n1] \u001b[38;5;241m=\u001b[39m \u001b[38;5;241m1\u001b[39m \n\u001b[0;32m     27\u001b[0m \u001b[38;5;28mprint\u001b[39m(adjM)        \n",
      "\u001b[1;31mTypeError\u001b[0m: list indices must be integers or slices, not map"
     ]
    }
   ],
   "source": [
    "# 5298  XXXXXXXXXXXXXXXXXXXXXx\n",
    "a, b = map(int, input().split())\n",
    "edge = []\n",
    "\n",
    "for c in range(b):\n",
    "    edge.append(map(int, input().split()))\n",
    "\n",
    "#     for i, j in edge:        \n",
    "#         if edge[i][j] = 1\n",
    "        \n",
    "        \n",
    "        \n",
    "\n",
    "# for i in edge:\n",
    "# \tfor j in range(a)\n",
    "#     if (edge exists):\n",
    "#     \tA[i][j] = 1\n",
    "#     else:\n",
    "#     \tA[i][j] = 0\n",
    "\n",
    "        \n",
    "        \n",
    "adjM = [[0]*(a+1) for _ in range(a+1)]\n",
    "for i in range(b):\n",
    "    n1, n2 = edge[i], edge[i+1]\n",
    "    adjM[n1][n2] = 1\n",
    "    adjM[n2][n1] = 1 \n",
    "print(adjM)        \n",
    "        \n",
    "        "
   ]
  },
  {
   "cell_type": "code",
   "execution_count": 79,
   "id": "0e5012a8-5408-42e1-88b7-c0284addc2f1",
   "metadata": {},
   "outputs": [
    {
     "name": "stdin",
     "output_type": "stream",
     "text": [
      " 6 8\n",
      " 0 1 0 2 0 5 0 6 4 3 5 3 5 4 6 4\n"
     ]
    },
    {
     "name": "stdout",
     "output_type": "stream",
     "text": [
      "[[0, 1, 1, 0, 0, 1, 1], [1, 0, 0, 0, 0, 0, 0], [1, 0, 0, 0, 0, 0, 0], [0, 0, 0, 0, 1, 1, 0], [0, 0, 0, 1, 0, 1, 1], [1, 0, 0, 1, 1, 0, 0], [1, 0, 0, 0, 1, 0, 0]]\n"
     ]
    }
   ],
   "source": [
    "V, E = map(int, input().split())\n",
    "edge = list(map(int, input().split()))\n",
    "\n",
    "\n",
    "adjM = [[0]*(V+1) for _ in range(V+1)]\n",
    "for i in range(E):\n",
    "    n1, n2 = edge[2*i], edge[2*i+1]\n",
    "    adjM[n1][n2] = 1\n",
    "    adjM[n2][n1] = 1 \n",
    "print(adjM)\n",
    "\n"
   ]
  },
  {
   "cell_type": "code",
   "execution_count": 83,
   "id": "d70972cf-31d2-4570-aac9-8cf72452412b",
   "metadata": {},
   "outputs": [
    {
     "name": "stdin",
     "output_type": "stream",
     "text": [
      " 2\n",
      " qq 1\n",
      " ww 2\n"
     ]
    },
    {
     "name": "stdout",
     "output_type": "stream",
     "text": [
      "[['qq', 1], ['ww', 2]]\n"
     ]
    }
   ],
   "source": [
    "# 5300\n",
    "\n",
    "n = int(input())\n",
    "iq = []\n",
    "for i in range(n):\n",
    "    a, b = input().split()\n",
    "    a = str(a)\n",
    "    b = int(b)\n",
    "    iq.append([a, b])\n",
    "\n",
    "if     \n",
    "\n",
    "\n"
   ]
  },
  {
   "cell_type": "code",
   "execution_count": null,
   "id": "bb4715ac-2157-4279-bb6b-3fe1f88ec290",
   "metadata": {},
   "outputs": [],
   "source": [
    "a, b = input().split()\n",
    "a = str(a)\n",
    "b = int(b)\n",
    "\n",
    "\n",
    "a, b = map(int, input().split())\n",
    "edge = []\n",
    "\n",
    "for c in range(b):\n",
    "    edge.append(map(int, input().split()))\n",
    "    \n",
    "list_1 = [1, 2, 3, 4, 5, 5]    \n",
    "num =3\n",
    "\n",
    "rr = sorted(list_1.copy())[-num:]   \n"
   ]
  },
  {
   "cell_type": "code",
   "execution_count": 43,
   "id": "b5b7a05e-404a-4e7b-8bef-6a86a4bb1148",
   "metadata": {},
   "outputs": [
    {
     "name": "stdin",
     "output_type": "stream",
     "text": [
      " 9\n",
      " 14\n",
      " 59\n",
      " 24\n",
      " 32\n",
      " 1\n",
      " 4\n",
      " 6\n",
      " 35\n",
      " 18\n"
     ]
    },
    {
     "name": "stdout",
     "output_type": "stream",
     "text": [
      "193\n"
     ]
    }
   ],
   "source": [
    "# 5316\n",
    "n = int(input())\n",
    "x = 0\n",
    "for i in range(n):\n",
    "    a = int(input())\n",
    "    x = x + a\n",
    "print(x)\n",
    "\n",
    "\n",
    "\n",
    "\n"
   ]
  },
  {
   "cell_type": "code",
   "execution_count": 45,
   "id": "44d3069c-c541-4bdf-98b3-bbe3c5c8fb73",
   "metadata": {},
   "outputs": [
    {
     "name": "stdin",
     "output_type": "stream",
     "text": [
      " kakao\n"
     ]
    },
    {
     "name": "stdout",
     "output_type": "stream",
     "text": [
      "2\n"
     ]
    }
   ],
   "source": [
    "#5312\n",
    "\n",
    "a = str(input())\n",
    "n = a.count('k')\n",
    "print(n)"
   ]
  },
  {
   "cell_type": "code",
   "execution_count": 48,
   "id": "521dc4c2-f276-439b-b5cc-6de60a984fee",
   "metadata": {},
   "outputs": [
    {
     "name": "stdin",
     "output_type": "stream",
     "text": [
      " 5\n"
     ]
    },
    {
     "name": "stdout",
     "output_type": "stream",
     "text": [
      "0\n"
     ]
    }
   ],
   "source": [
    "# 5307\n",
    "n = int(input())\n",
    "if n == 0:\n",
    "    print(1)\n",
    "else:\n",
    "    print(0)\n",
    "\n"
   ]
  },
  {
   "cell_type": "code",
   "execution_count": 52,
   "id": "849642ec-996b-4658-af47-41fcdc67b35a",
   "metadata": {},
   "outputs": [
    {
     "name": "stdin",
     "output_type": "stream",
     "text": [
      " 23 54 232\n"
     ]
    },
    {
     "name": "stdout",
     "output_type": "stream",
     "text": [
      "177\n"
     ]
    }
   ],
   "source": [
    "# 5314\n",
    "a, b, c = input().split()\n",
    "a = int(a)\n",
    "b = int(b)\n",
    "c = int(c)\n",
    "\n",
    "k1 = b - a\n",
    "k2 = c -b\n",
    "if k1 > k2:\n",
    "    print(k1-1)\n",
    "else:\n",
    "    print(k2-1)\n",
    "\n"
   ]
  },
  {
   "cell_type": "code",
   "execution_count": 53,
   "id": "3a77e55b-4fbc-406e-9248-633341312843",
   "metadata": {},
   "outputs": [
    {
     "name": "stdin",
     "output_type": "stream",
     "text": [
      " Hello World\n",
      " World Hello\n"
     ]
    },
    {
     "name": "stdout",
     "output_type": "stream",
     "text": [
      "Hello World\n",
      "World Hello\n"
     ]
    }
   ],
   "source": [
    "# 5310\n",
    "a = str(input())\n",
    "b = str(input())\n",
    "\n",
    "print(a)\n",
    "print(b)"
   ]
  },
  {
   "cell_type": "code",
   "execution_count": null,
   "id": "4d742046-5a61-4d57-be2a-70c8d0f1f535",
   "metadata": {},
   "outputs": [],
   "source": []
  },
  {
   "cell_type": "code",
   "execution_count": null,
   "id": "c975200c-f558-4534-999c-e792536242a1",
   "metadata": {},
   "outputs": [],
   "source": []
  },
  {
   "cell_type": "code",
   "execution_count": null,
   "id": "392d7956-0db1-4021-b1fd-73c5893fb3e4",
   "metadata": {},
   "outputs": [],
   "source": []
  },
  {
   "cell_type": "code",
   "execution_count": null,
   "id": "ad398dcc-c3dc-4102-8c73-b677cbf5b259",
   "metadata": {},
   "outputs": [],
   "source": []
  },
  {
   "cell_type": "code",
   "execution_count": null,
   "id": "7f5bcc7b-1fb3-43ee-94a1-584d229e7307",
   "metadata": {},
   "outputs": [],
   "source": []
  },
  {
   "cell_type": "code",
   "execution_count": null,
   "id": "65e127e1-f4d2-462b-a08c-659201bfacee",
   "metadata": {},
   "outputs": [],
   "source": []
  }
 ],
 "metadata": {
  "kernelspec": {
   "display_name": "Python 3 (ipykernel)",
   "language": "python",
   "name": "python3"
  },
  "language_info": {
   "codemirror_mode": {
    "name": "ipython",
    "version": 3
   },
   "file_extension": ".py",
   "mimetype": "text/x-python",
   "name": "python",
   "nbconvert_exporter": "python",
   "pygments_lexer": "ipython3",
   "version": "3.9.13"
  }
 },
 "nbformat": 4,
 "nbformat_minor": 5
}
